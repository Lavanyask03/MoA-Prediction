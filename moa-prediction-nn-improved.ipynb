{
 "cells": [
  {
   "cell_type": "code",
   "execution_count": 1,
   "metadata": {
    "_cell_guid": "b1076dfc-b9ad-4769-8c92-a6c4dae69d19",
    "_uuid": "8f2839f25d086af736a60e9eeb907d3b93b6e0e5",
    "execution": {
     "iopub.execute_input": "2020-11-25T09:49:03.780883Z",
     "iopub.status.busy": "2020-11-25T09:49:03.779992Z",
     "iopub.status.idle": "2020-11-25T09:49:03.786191Z",
     "shell.execute_reply": "2020-11-25T09:49:03.785621Z"
    },
    "papermill": {
     "duration": 0.02818,
     "end_time": "2020-11-25T09:49:03.786295",
     "exception": false,
     "start_time": "2020-11-25T09:49:03.758115",
     "status": "completed"
    },
    "tags": []
   },
   "outputs": [
    {
     "name": "stdout",
     "output_type": "stream",
     "text": [
      "/kaggle/input/lish-moa/train_features.csv\n",
      "/kaggle/input/lish-moa/train_drug.csv\n",
      "/kaggle/input/lish-moa/test_features.csv\n",
      "/kaggle/input/lish-moa/train_targets_nonscored.csv\n",
      "/kaggle/input/lish-moa/sample_submission.csv\n",
      "/kaggle/input/lish-moa/train_targets_scored.csv\n"
     ]
    }
   ],
   "source": [
    "# This Python 3 environment comes with many helpful analytics libraries installed\n",
    "# It is defined by the kaggle/python Docker image: https://github.com/kaggle/docker-python\n",
    "# For example, here's several helpful packages to load\n",
    "\n",
    "import numpy as np # linear algebra\n",
    "import pandas as pd # data processing, CSV file I/O (e.g. pd.read_csv)\n",
    "\n",
    "# Input data files are available in the read-only \"../input/\" directory\n",
    "# For example, running this (by clicking run or pressing Shift+Enter) will list all files under the input directory\n",
    "\n",
    "import os\n",
    "for dirname, _, filenames in os.walk('/kaggle/input'):\n",
    "    for filename in filenames:\n",
    "        print(os.path.join(dirname, filename))\n",
    "\n",
    "# You can write up to 20GB to the current directory (/kaggle/working/) that gets preserved as output when you create a version using \"Save & Run All\" \n",
    "# You can also write temporary files to /kaggle/temp/, but they won't be saved outside of the current session"
   ]
  },
  {
   "cell_type": "code",
   "execution_count": 2,
   "metadata": {
    "_cell_guid": "79c7e3d0-c299-4dcb-8224-4455121ee9b0",
    "_uuid": "d629ff2d2480ee46fbb7e2d37f6b5fab8052498a",
    "execution": {
     "iopub.execute_input": "2020-11-25T09:49:03.821995Z",
     "iopub.status.busy": "2020-11-25T09:49:03.821401Z",
     "iopub.status.idle": "2020-11-25T09:49:09.338948Z",
     "shell.execute_reply": "2020-11-25T09:49:09.337572Z"
    },
    "papermill": {
     "duration": 5.538024,
     "end_time": "2020-11-25T09:49:09.339066",
     "exception": false,
     "start_time": "2020-11-25T09:49:03.801042",
     "status": "completed"
    },
    "tags": []
   },
   "outputs": [],
   "source": [
    "from sklearn.model_selection import train_test_split\n",
    "from sklearn.model_selection import cross_val_score\n",
    "from sklearn.model_selection import KFold\n",
    "from sklearn.metrics import log_loss\n",
    "\n",
    "import tensorflow as tf\n",
    "import tensorflow.keras.backend as K\n",
    "from tensorflow.keras.models import Sequential\n",
    "from tensorflow.keras.layers import Dense, Dropout, BatchNormalization, Input\n",
    "from tensorflow_addons.layers import WeightNormalization\n",
    "from tensorflow.keras.optimizers import Adam\n",
    "from tensorflow.keras.callbacks import EarlyStopping"
   ]
  },
  {
   "cell_type": "code",
   "execution_count": 3,
   "metadata": {
    "execution": {
     "iopub.execute_input": "2020-11-25T09:49:09.374508Z",
     "iopub.status.busy": "2020-11-25T09:49:09.373720Z",
     "iopub.status.idle": "2020-11-25T09:49:09.376628Z",
     "shell.execute_reply": "2020-11-25T09:49:09.376121Z"
    },
    "papermill": {
     "duration": 0.022741,
     "end_time": "2020-11-25T09:49:09.376730",
     "exception": false,
     "start_time": "2020-11-25T09:49:09.353989",
     "status": "completed"
    },
    "tags": []
   },
   "outputs": [],
   "source": [
    "# set seed\n",
    "def seed_everything(seed = 42):\n",
    "    os.environ['PYTHONHASHSEED'] = str(seed)\n",
    "    np.random.seed(seed)\n",
    "    tf.random.set_seed(seed)\n",
    "    \n",
    "seed_everything(seed = 42)"
   ]
  },
  {
   "cell_type": "code",
   "execution_count": 4,
   "metadata": {
    "execution": {
     "iopub.execute_input": "2020-11-25T09:49:09.411853Z",
     "iopub.status.busy": "2020-11-25T09:49:09.411057Z",
     "iopub.status.idle": "2020-11-25T09:49:16.176424Z",
     "shell.execute_reply": "2020-11-25T09:49:16.175346Z"
    },
    "papermill": {
     "duration": 6.785966,
     "end_time": "2020-11-25T09:49:16.176546",
     "exception": false,
     "start_time": "2020-11-25T09:49:09.390580",
     "status": "completed"
    },
    "tags": []
   },
   "outputs": [],
   "source": [
    "# reading in all the data files\n",
    "train_features = pd.read_csv('/kaggle/input/lish-moa/train_features.csv')\n",
    "test_features = pd.read_csv('/kaggle/input/lish-moa/test_features.csv')\n",
    "train_targets_scored = pd.read_csv('/kaggle/input/lish-moa/train_targets_scored.csv')\n",
    "train_targets_nonscored = pd.read_csv('/kaggle/input/lish-moa/train_targets_nonscored.csv')\n",
    "sample_submission = pd.read_csv('/kaggle/input/lish-moa/sample_submission.csv')"
   ]
  },
  {
   "cell_type": "code",
   "execution_count": 5,
   "metadata": {
    "execution": {
     "iopub.execute_input": "2020-11-25T09:49:16.215469Z",
     "iopub.status.busy": "2020-11-25T09:49:16.214604Z",
     "iopub.status.idle": "2020-11-25T09:49:16.225761Z",
     "shell.execute_reply": "2020-11-25T09:49:16.225268Z"
    },
    "papermill": {
     "duration": 0.034638,
     "end_time": "2020-11-25T09:49:16.225874",
     "exception": false,
     "start_time": "2020-11-25T09:49:16.191236",
     "status": "completed"
    },
    "tags": []
   },
   "outputs": [],
   "source": [
    "ind_te = test_features[test_features['cp_type']=='ctl_vehicle'].index"
   ]
  },
  {
   "cell_type": "code",
   "execution_count": 6,
   "metadata": {
    "execution": {
     "iopub.execute_input": "2020-11-25T09:49:16.262124Z",
     "iopub.status.busy": "2020-11-25T09:49:16.261364Z",
     "iopub.status.idle": "2020-11-25T09:49:16.265536Z",
     "shell.execute_reply": "2020-11-25T09:49:16.265028Z"
    },
    "papermill": {
     "duration": 0.024877,
     "end_time": "2020-11-25T09:49:16.265664",
     "exception": false,
     "start_time": "2020-11-25T09:49:16.240787",
     "status": "completed"
    },
    "tags": []
   },
   "outputs": [],
   "source": [
    "def preprocess(df):\n",
    "    d = df.copy()\n",
    "    # change cp_dose: D1 -> 0, D2 -> 1\n",
    "    d['cp_dose'] = d['cp_dose'].map({'D1':0, 'D2':1})\n",
    "    # change cp_time: 24 -> 0, 48 -> 1, 72 -> 2\n",
    "    d['cp_time'] = d['cp_time']//24-1\n",
    "    # change cp_type: trt_cp -> 1, ctl_vehicle -> 0\n",
    "    d['cp_type'] = d['cp_type'].map({'ctl_vehicle':0, 'trt_cp':1})\n",
    "    # drop the sig_id column\n",
    "    d.drop(columns = ['sig_id'], inplace = True)\n",
    "    return d"
   ]
  },
  {
   "cell_type": "code",
   "execution_count": 7,
   "metadata": {
    "execution": {
     "iopub.execute_input": "2020-11-25T09:49:16.300156Z",
     "iopub.status.busy": "2020-11-25T09:49:16.299001Z",
     "iopub.status.idle": "2020-11-25T09:49:16.464271Z",
     "shell.execute_reply": "2020-11-25T09:49:16.463358Z"
    },
    "papermill": {
     "duration": 0.183954,
     "end_time": "2020-11-25T09:49:16.464388",
     "exception": false,
     "start_time": "2020-11-25T09:49:16.280434",
     "status": "completed"
    },
    "tags": []
   },
   "outputs": [],
   "source": [
    "X_train = preprocess(train_features)\n",
    "X_test = preprocess(test_features)"
   ]
  },
  {
   "cell_type": "code",
   "execution_count": 8,
   "metadata": {
    "execution": {
     "iopub.execute_input": "2020-11-25T09:49:16.503462Z",
     "iopub.status.busy": "2020-11-25T09:49:16.502127Z",
     "iopub.status.idle": "2020-11-25T09:49:16.506045Z",
     "shell.execute_reply": "2020-11-25T09:49:16.505308Z"
    },
    "papermill": {
     "duration": 0.025542,
     "end_time": "2020-11-25T09:49:16.506168",
     "exception": false,
     "start_time": "2020-11-25T09:49:16.480626",
     "status": "completed"
    },
    "tags": []
   },
   "outputs": [
    {
     "name": "stdout",
     "output_type": "stream",
     "text": [
      "(23814, 875) (3982, 875)\n"
     ]
    }
   ],
   "source": [
    "print(X_train.shape, X_test.shape)"
   ]
  },
  {
   "cell_type": "code",
   "execution_count": 9,
   "metadata": {
    "execution": {
     "iopub.execute_input": "2020-11-25T09:49:16.543409Z",
     "iopub.status.busy": "2020-11-25T09:49:16.542356Z",
     "iopub.status.idle": "2020-11-25T09:49:16.578114Z",
     "shell.execute_reply": "2020-11-25T09:49:16.578591Z"
    },
    "papermill": {
     "duration": 0.055962,
     "end_time": "2020-11-25T09:49:16.578716",
     "exception": false,
     "start_time": "2020-11-25T09:49:16.522754",
     "status": "completed"
    },
    "tags": []
   },
   "outputs": [
    {
     "data": {
      "text/plain": [
       "(23814, 206)"
      ]
     },
     "execution_count": 9,
     "metadata": {},
     "output_type": "execute_result"
    }
   ],
   "source": [
    "y_train = train_targets_scored.copy()\n",
    "# drop the sig_id column\n",
    "y_train.drop(columns = ['sig_id'], inplace = True)\n",
    "y_train.shape"
   ]
  },
  {
   "cell_type": "code",
   "execution_count": 10,
   "metadata": {
    "execution": {
     "iopub.execute_input": "2020-11-25T09:49:16.615760Z",
     "iopub.status.busy": "2020-11-25T09:49:16.615200Z",
     "iopub.status.idle": "2020-11-25T09:49:16.618528Z",
     "shell.execute_reply": "2020-11-25T09:49:16.619361Z"
    },
    "papermill": {
     "duration": 0.024508,
     "end_time": "2020-11-25T09:49:16.619475",
     "exception": false,
     "start_time": "2020-11-25T09:49:16.594967",
     "status": "completed"
    },
    "tags": []
   },
   "outputs": [],
   "source": [
    "# Stop training when the validation log loss metric has stopped decreasing for 3 epochs.\n",
    "def callbacks():\n",
    "    early_stopping = EarlyStopping(monitor = 'val_logloss',\n",
    "                                   patience = 3,\n",
    "                                   mode = 'min',\n",
    "                                   restore_best_weights = True)\n",
    "    return early_stopping"
   ]
  },
  {
   "cell_type": "code",
   "execution_count": 11,
   "metadata": {
    "execution": {
     "iopub.execute_input": "2020-11-25T09:49:16.664475Z",
     "iopub.status.busy": "2020-11-25T09:49:16.662787Z",
     "iopub.status.idle": "2020-11-25T09:49:16.665256Z",
     "shell.execute_reply": "2020-11-25T09:49:16.665725Z"
    },
    "papermill": {
     "duration": 0.029855,
     "end_time": "2020-11-25T09:49:16.665853",
     "exception": false,
     "start_time": "2020-11-25T09:49:16.635998",
     "status": "completed"
    },
    "tags": []
   },
   "outputs": [],
   "source": [
    "# create the neural network model\n",
    "def create_model(num_columns):\n",
    "    model = Sequential()\n",
    "    model.add(Input(num_columns))\n",
    "    model.add(BatchNormalization())\n",
    "    model.add(Dropout(0.2))\n",
    "    model.add(WeightNormalization(Dense(2048, activation=\"relu\")))\n",
    "    model.add(BatchNormalization())\n",
    "    model.add(Dropout(0.5))\n",
    "    model.add(WeightNormalization(Dense(1024, activation=\"relu\")))\n",
    "    model.add(BatchNormalization())\n",
    "    model.add(Dropout(0.5))\n",
    "    model.add(WeightNormalization(Dense(512, activation=\"relu\")))\n",
    "    model.add(BatchNormalization())\n",
    "    model.add(Dropout(0.5))\n",
    "    model.add(WeightNormalization(Dense(206, activation=\"sigmoid\")))\n",
    "    model.compile(optimizer = Adam(), loss = 'binary_crossentropy')\n",
    "    return model"
   ]
  },
  {
   "cell_type": "code",
   "execution_count": 12,
   "metadata": {
    "execution": {
     "iopub.execute_input": "2020-11-25T09:49:16.705191Z",
     "iopub.status.busy": "2020-11-25T09:49:16.704568Z",
     "iopub.status.idle": "2020-11-25T09:49:16.708988Z",
     "shell.execute_reply": "2020-11-25T09:49:16.708393Z"
    },
    "papermill": {
     "duration": 0.025069,
     "end_time": "2020-11-25T09:49:16.709107",
     "exception": false,
     "start_time": "2020-11-25T09:49:16.684038",
     "status": "completed"
    },
    "tags": []
   },
   "outputs": [],
   "source": [
    "# feats = [0,1,2,.......,873]\n",
    "feats = np.arange(0,X_train.shape[1],1)\n",
    "inp_size = 874"
   ]
  },
  {
   "cell_type": "code",
   "execution_count": 13,
   "metadata": {
    "execution": {
     "iopub.execute_input": "2020-11-25T09:49:16.750327Z",
     "iopub.status.busy": "2020-11-25T09:49:16.749147Z",
     "iopub.status.idle": "2020-11-25T09:49:16.752440Z",
     "shell.execute_reply": "2020-11-25T09:49:16.752961Z"
    },
    "papermill": {
     "duration": 0.025868,
     "end_time": "2020-11-25T09:49:16.753080",
     "exception": false,
     "start_time": "2020-11-25T09:49:16.727212",
     "status": "completed"
    },
    "tags": []
   },
   "outputs": [],
   "source": [
    "# creating a sample df to store predicted values\n",
    "sample = sample_submission.copy()"
   ]
  },
  {
   "cell_type": "code",
   "execution_count": 14,
   "metadata": {
    "execution": {
     "iopub.execute_input": "2020-11-25T09:49:16.791751Z",
     "iopub.status.busy": "2020-11-25T09:49:16.790584Z",
     "iopub.status.idle": "2020-11-25T09:49:16.945489Z",
     "shell.execute_reply": "2020-11-25T09:49:16.946218Z"
    },
    "papermill": {
     "duration": 0.176505,
     "end_time": "2020-11-25T09:49:16.946399",
     "exception": false,
     "start_time": "2020-11-25T09:49:16.769894",
     "status": "completed"
    },
    "tags": []
   },
   "outputs": [
    {
     "name": "stdout",
     "output_type": "stream",
     "text": [
      "(3982, 207) (23814, 206)\n"
     ]
    }
   ],
   "source": [
    "res = y_train.copy()\n",
    "sample.loc[:, y_train.columns] = 0\n",
    "res.loc[:, y_train.columns] = 0\n",
    "print(sample.shape, res.shape)"
   ]
  },
  {
   "cell_type": "code",
   "execution_count": 15,
   "metadata": {
    "execution": {
     "iopub.execute_input": "2020-11-25T09:49:16.985579Z",
     "iopub.status.busy": "2020-11-25T09:49:16.984994Z",
     "iopub.status.idle": "2020-11-25T09:49:16.989220Z",
     "shell.execute_reply": "2020-11-25T09:49:16.988690Z"
    },
    "papermill": {
     "duration": 0.024309,
     "end_time": "2020-11-25T09:49:16.989338",
     "exception": false,
     "start_time": "2020-11-25T09:49:16.965029",
     "status": "completed"
    },
    "tags": []
   },
   "outputs": [],
   "source": [
    "from time import time\n",
    "import datetime"
   ]
  },
  {
   "cell_type": "code",
   "execution_count": 16,
   "metadata": {
    "execution": {
     "iopub.execute_input": "2020-11-25T09:49:17.029312Z",
     "iopub.status.busy": "2020-11-25T09:49:17.028500Z",
     "iopub.status.idle": "2020-11-25T09:49:17.032160Z",
     "shell.execute_reply": "2020-11-25T09:49:17.032639Z"
    },
    "papermill": {
     "duration": 0.026674,
     "end_time": "2020-11-25T09:49:17.032767",
     "exception": false,
     "start_time": "2020-11-25T09:49:17.006093",
     "status": "completed"
    },
    "tags": []
   },
   "outputs": [],
   "source": [
    "def log_loss_metric(y_true, y_pred):\n",
    "    metrics = []\n",
    "    for _target in y_train.columns:\n",
    "        metrics.append(log_loss(y_true.loc[:, _target], y_pred.loc[:, _target].astype(float), labels = [0,1]))\n",
    "    return np.mean(metrics)"
   ]
  },
  {
   "cell_type": "code",
   "execution_count": 17,
   "metadata": {
    "execution": {
     "iopub.execute_input": "2020-11-25T09:49:17.085097Z",
     "iopub.status.busy": "2020-11-25T09:49:17.079952Z",
     "iopub.status.idle": "2020-11-25T10:11:29.013871Z",
     "shell.execute_reply": "2020-11-25T10:11:29.014539Z"
    },
    "papermill": {
     "duration": 1331.964895,
     "end_time": "2020-11-25T10:11:29.014724",
     "exception": false,
     "start_time": "2020-11-25T09:49:17.049829",
     "status": "completed"
    },
    "tags": []
   },
   "outputs": [
    {
     "name": "stdout",
     "output_type": "stream",
     "text": [
      "[04:36], Seed 0, Fold 0: 0.015224653315950454\n",
      "[04:24], Seed 0, Fold 1: 0.0154563089384379\n",
      "[04:25], Seed 0, Fold 2: 0.015135387388482887\n",
      "[04:22], Seed 0, Fold 3: 0.01553196754539777\n",
      "[04:22], Seed 0, Fold 4: 0.015469322363329159\n"
     ]
    }
   ],
   "source": [
    "test_preds = []\n",
    "res_preds = []\n",
    "np.random.seed(seed=42)\n",
    "n_splits = 5\n",
    "n_top = 10\n",
    "n_round = 1\n",
    "\n",
    "for seed in range(n_round):\n",
    "    split_cols = np.random.choice(feats, inp_size, replace = False)\n",
    "    res.loc[:, y_train.columns] = 0\n",
    "    sample.loc[:, y_train.columns] = 0\n",
    "    for n, (tr, te) in enumerate(KFold(n_splits = n_splits, random_state = seed, shuffle = True).split(X_train, y_train)):\n",
    "        start_time = time()\n",
    "        x_tr = X_train.values[tr][:, split_cols]\n",
    "        x_val = X_train.values[te][:, split_cols]\n",
    "        y_tr, y_val = y_train.values[tr], y_train.values[te]\n",
    "        x_tt = X_test.values[:, split_cols]   \n",
    "        for num in range(n_top):\n",
    "            model = create_model(inp_size)\n",
    "            model.fit(x_tr, y_tr,validation_data=(x_val, y_val), epochs = 25, batch_size = 128,\n",
    "                      callbacks = callbacks(), verbose = 0)\n",
    "            sample.loc[:, y_train.columns] += model.predict(x_tt, batch_size = 128)/(n_splits*n_top)\n",
    "            res.loc[te, y_train.columns] += model.predict(x_val, batch_size = 128)/(n_top)\n",
    "        loss = log_loss_metric(y_train.loc[te,y_train.columns], res.loc[te, y_train.columns])\n",
    "        print(f'[{str(datetime.timedelta(seconds = time() - start_time))[2:7]}], Seed {seed}, Fold {n}:', loss)\n",
    "        K.clear_session()\n",
    "        del model\n",
    "    # set prediction 0 for ctl_vehicle observations\n",
    "    sample.loc[ind_te, y_train.columns] = 0\n",
    "    test_preds.append(sample.copy())    \n",
    "    res_preds.append(res.copy())\n"
   ]
  },
  {
   "cell_type": "code",
   "execution_count": 18,
   "metadata": {
    "execution": {
     "iopub.execute_input": "2020-11-25T10:11:29.058872Z",
     "iopub.status.busy": "2020-11-25T10:11:29.057670Z",
     "iopub.status.idle": "2020-11-25T10:11:29.062121Z",
     "shell.execute_reply": "2020-11-25T10:11:29.061417Z"
    },
    "papermill": {
     "duration": 0.028097,
     "end_time": "2020-11-25T10:11:29.062244",
     "exception": false,
     "start_time": "2020-11-25T10:11:29.034147",
     "status": "completed"
    },
    "tags": []
   },
   "outputs": [
    {
     "name": "stdout",
     "output_type": "stream",
     "text": [
      "1 1\n"
     ]
    }
   ],
   "source": [
    "print(len(res_preds), len(test_preds))"
   ]
  },
  {
   "cell_type": "code",
   "execution_count": 19,
   "metadata": {
    "execution": {
     "iopub.execute_input": "2020-11-25T10:11:29.110103Z",
     "iopub.status.busy": "2020-11-25T10:11:29.109031Z",
     "iopub.status.idle": "2020-11-25T10:11:29.380842Z",
     "shell.execute_reply": "2020-11-25T10:11:29.380265Z"
    },
    "papermill": {
     "duration": 0.298733,
     "end_time": "2020-11-25T10:11:29.380953",
     "exception": false,
     "start_time": "2020-11-25T10:11:29.082220",
     "status": "completed"
    },
    "tags": []
   },
   "outputs": [],
   "source": [
    "aa = [1.0]\n",
    "sample.loc[:, y_train.columns] = 0\n",
    "for i in range(n_round):\n",
    "    sample.loc[:, y_train.columns] += aa[i] * test_preds[i].loc[:, y_train.columns]\n",
    "sample.loc[ind_te, y_train.columns] = 0"
   ]
  },
  {
   "cell_type": "code",
   "execution_count": 20,
   "metadata": {
    "execution": {
     "iopub.execute_input": "2020-11-25T10:11:29.434947Z",
     "iopub.status.busy": "2020-11-25T10:11:29.434322Z",
     "iopub.status.idle": "2020-11-25T10:11:31.487686Z",
     "shell.execute_reply": "2020-11-25T10:11:31.488430Z"
    },
    "papermill": {
     "duration": 2.088227,
     "end_time": "2020-11-25T10:11:31.488591",
     "exception": false,
     "start_time": "2020-11-25T10:11:29.400364",
     "status": "completed"
    },
    "tags": []
   },
   "outputs": [
    {
     "data": {
      "text/html": [
       "<div>\n",
       "<style scoped>\n",
       "    .dataframe tbody tr th:only-of-type {\n",
       "        vertical-align: middle;\n",
       "    }\n",
       "\n",
       "    .dataframe tbody tr th {\n",
       "        vertical-align: top;\n",
       "    }\n",
       "\n",
       "    .dataframe thead th {\n",
       "        text-align: right;\n",
       "    }\n",
       "</style>\n",
       "<table border=\"1\" class=\"dataframe\">\n",
       "  <thead>\n",
       "    <tr style=\"text-align: right;\">\n",
       "      <th></th>\n",
       "      <th>sig_id</th>\n",
       "      <th>5-alpha_reductase_inhibitor</th>\n",
       "      <th>11-beta-hsd1_inhibitor</th>\n",
       "      <th>acat_inhibitor</th>\n",
       "      <th>acetylcholine_receptor_agonist</th>\n",
       "      <th>acetylcholine_receptor_antagonist</th>\n",
       "      <th>acetylcholinesterase_inhibitor</th>\n",
       "      <th>adenosine_receptor_agonist</th>\n",
       "      <th>adenosine_receptor_antagonist</th>\n",
       "      <th>adenylyl_cyclase_activator</th>\n",
       "      <th>...</th>\n",
       "      <th>tropomyosin_receptor_kinase_inhibitor</th>\n",
       "      <th>trpv_agonist</th>\n",
       "      <th>trpv_antagonist</th>\n",
       "      <th>tubulin_inhibitor</th>\n",
       "      <th>tyrosine_kinase_inhibitor</th>\n",
       "      <th>ubiquitin_specific_protease_inhibitor</th>\n",
       "      <th>vegfr_inhibitor</th>\n",
       "      <th>vitamin_b</th>\n",
       "      <th>vitamin_d_receptor_agonist</th>\n",
       "      <th>wnt_inhibitor</th>\n",
       "    </tr>\n",
       "  </thead>\n",
       "  <tbody>\n",
       "    <tr>\n",
       "      <th>0</th>\n",
       "      <td>id_0004d9e33</td>\n",
       "      <td>0.000472</td>\n",
       "      <td>0.000781</td>\n",
       "      <td>0.001385</td>\n",
       "      <td>0.020379</td>\n",
       "      <td>0.023610</td>\n",
       "      <td>0.007416</td>\n",
       "      <td>0.003131</td>\n",
       "      <td>0.005955</td>\n",
       "      <td>0.000405</td>\n",
       "      <td>...</td>\n",
       "      <td>0.000448</td>\n",
       "      <td>0.000695</td>\n",
       "      <td>0.002757</td>\n",
       "      <td>0.000950</td>\n",
       "      <td>0.000364</td>\n",
       "      <td>0.000362</td>\n",
       "      <td>0.000464</td>\n",
       "      <td>0.001262</td>\n",
       "      <td>0.002725</td>\n",
       "      <td>0.001390</td>\n",
       "    </tr>\n",
       "    <tr>\n",
       "      <th>1</th>\n",
       "      <td>id_001897cda</td>\n",
       "      <td>0.000434</td>\n",
       "      <td>0.001252</td>\n",
       "      <td>0.002048</td>\n",
       "      <td>0.003315</td>\n",
       "      <td>0.003673</td>\n",
       "      <td>0.002269</td>\n",
       "      <td>0.002371</td>\n",
       "      <td>0.010873</td>\n",
       "      <td>0.005098</td>\n",
       "      <td>...</td>\n",
       "      <td>0.000650</td>\n",
       "      <td>0.001822</td>\n",
       "      <td>0.003031</td>\n",
       "      <td>0.000363</td>\n",
       "      <td>0.009506</td>\n",
       "      <td>0.000717</td>\n",
       "      <td>0.009564</td>\n",
       "      <td>0.001187</td>\n",
       "      <td>0.006719</td>\n",
       "      <td>0.001892</td>\n",
       "    </tr>\n",
       "    <tr>\n",
       "      <th>2</th>\n",
       "      <td>id_002429b5b</td>\n",
       "      <td>0.000000</td>\n",
       "      <td>0.000000</td>\n",
       "      <td>0.000000</td>\n",
       "      <td>0.000000</td>\n",
       "      <td>0.000000</td>\n",
       "      <td>0.000000</td>\n",
       "      <td>0.000000</td>\n",
       "      <td>0.000000</td>\n",
       "      <td>0.000000</td>\n",
       "      <td>...</td>\n",
       "      <td>0.000000</td>\n",
       "      <td>0.000000</td>\n",
       "      <td>0.000000</td>\n",
       "      <td>0.000000</td>\n",
       "      <td>0.000000</td>\n",
       "      <td>0.000000</td>\n",
       "      <td>0.000000</td>\n",
       "      <td>0.000000</td>\n",
       "      <td>0.000000</td>\n",
       "      <td>0.000000</td>\n",
       "    </tr>\n",
       "    <tr>\n",
       "      <th>3</th>\n",
       "      <td>id_00276f245</td>\n",
       "      <td>0.000444</td>\n",
       "      <td>0.000745</td>\n",
       "      <td>0.001907</td>\n",
       "      <td>0.010084</td>\n",
       "      <td>0.010115</td>\n",
       "      <td>0.003678</td>\n",
       "      <td>0.001994</td>\n",
       "      <td>0.005109</td>\n",
       "      <td>0.000559</td>\n",
       "      <td>...</td>\n",
       "      <td>0.000403</td>\n",
       "      <td>0.002226</td>\n",
       "      <td>0.002809</td>\n",
       "      <td>0.011532</td>\n",
       "      <td>0.006735</td>\n",
       "      <td>0.000387</td>\n",
       "      <td>0.002841</td>\n",
       "      <td>0.001717</td>\n",
       "      <td>0.002285</td>\n",
       "      <td>0.002133</td>\n",
       "    </tr>\n",
       "    <tr>\n",
       "      <th>4</th>\n",
       "      <td>id_0027f1083</td>\n",
       "      <td>0.001314</td>\n",
       "      <td>0.001214</td>\n",
       "      <td>0.001441</td>\n",
       "      <td>0.014681</td>\n",
       "      <td>0.025693</td>\n",
       "      <td>0.005811</td>\n",
       "      <td>0.005971</td>\n",
       "      <td>0.003219</td>\n",
       "      <td>0.000427</td>\n",
       "      <td>...</td>\n",
       "      <td>0.000398</td>\n",
       "      <td>0.000726</td>\n",
       "      <td>0.003967</td>\n",
       "      <td>0.001313</td>\n",
       "      <td>0.000862</td>\n",
       "      <td>0.000433</td>\n",
       "      <td>0.000810</td>\n",
       "      <td>0.001615</td>\n",
       "      <td>0.000830</td>\n",
       "      <td>0.001271</td>\n",
       "    </tr>\n",
       "  </tbody>\n",
       "</table>\n",
       "<p>5 rows × 207 columns</p>\n",
       "</div>"
      ],
      "text/plain": [
       "         sig_id  5-alpha_reductase_inhibitor  11-beta-hsd1_inhibitor  \\\n",
       "0  id_0004d9e33                     0.000472                0.000781   \n",
       "1  id_001897cda                     0.000434                0.001252   \n",
       "2  id_002429b5b                     0.000000                0.000000   \n",
       "3  id_00276f245                     0.000444                0.000745   \n",
       "4  id_0027f1083                     0.001314                0.001214   \n",
       "\n",
       "   acat_inhibitor  acetylcholine_receptor_agonist  \\\n",
       "0        0.001385                        0.020379   \n",
       "1        0.002048                        0.003315   \n",
       "2        0.000000                        0.000000   \n",
       "3        0.001907                        0.010084   \n",
       "4        0.001441                        0.014681   \n",
       "\n",
       "   acetylcholine_receptor_antagonist  acetylcholinesterase_inhibitor  \\\n",
       "0                           0.023610                        0.007416   \n",
       "1                           0.003673                        0.002269   \n",
       "2                           0.000000                        0.000000   \n",
       "3                           0.010115                        0.003678   \n",
       "4                           0.025693                        0.005811   \n",
       "\n",
       "   adenosine_receptor_agonist  adenosine_receptor_antagonist  \\\n",
       "0                    0.003131                       0.005955   \n",
       "1                    0.002371                       0.010873   \n",
       "2                    0.000000                       0.000000   \n",
       "3                    0.001994                       0.005109   \n",
       "4                    0.005971                       0.003219   \n",
       "\n",
       "   adenylyl_cyclase_activator  ...  tropomyosin_receptor_kinase_inhibitor  \\\n",
       "0                    0.000405  ...                               0.000448   \n",
       "1                    0.005098  ...                               0.000650   \n",
       "2                    0.000000  ...                               0.000000   \n",
       "3                    0.000559  ...                               0.000403   \n",
       "4                    0.000427  ...                               0.000398   \n",
       "\n",
       "   trpv_agonist  trpv_antagonist  tubulin_inhibitor  \\\n",
       "0      0.000695         0.002757           0.000950   \n",
       "1      0.001822         0.003031           0.000363   \n",
       "2      0.000000         0.000000           0.000000   \n",
       "3      0.002226         0.002809           0.011532   \n",
       "4      0.000726         0.003967           0.001313   \n",
       "\n",
       "   tyrosine_kinase_inhibitor  ubiquitin_specific_protease_inhibitor  \\\n",
       "0                   0.000364                               0.000362   \n",
       "1                   0.009506                               0.000717   \n",
       "2                   0.000000                               0.000000   \n",
       "3                   0.006735                               0.000387   \n",
       "4                   0.000862                               0.000433   \n",
       "\n",
       "   vegfr_inhibitor  vitamin_b  vitamin_d_receptor_agonist  wnt_inhibitor  \n",
       "0         0.000464   0.001262                    0.002725       0.001390  \n",
       "1         0.009564   0.001187                    0.006719       0.001892  \n",
       "2         0.000000   0.000000                    0.000000       0.000000  \n",
       "3         0.002841   0.001717                    0.002285       0.002133  \n",
       "4         0.000810   0.001615                    0.000830       0.001271  \n",
       "\n",
       "[5 rows x 207 columns]"
      ]
     },
     "metadata": {},
     "output_type": "display_data"
    }
   ],
   "source": [
    "display(sample.head())\n",
    "# write sample to submission.csv file\n",
    "sample.to_csv('submission.csv', index=False)"
   ]
  }
 ],
 "metadata": {
  "kernelspec": {
   "display_name": "Python 3",
   "language": "python",
   "name": "python3"
  },
  "language_info": {
   "codemirror_mode": {
    "name": "ipython",
    "version": 3
   },
   "file_extension": ".py",
   "mimetype": "text/x-python",
   "name": "python",
   "nbconvert_exporter": "python",
   "pygments_lexer": "ipython3",
   "version": "3.7.6"
  },
  "papermill": {
   "duration": 1353.160894,
   "end_time": "2020-11-25T10:11:32.894300",
   "environment_variables": {},
   "exception": null,
   "input_path": "__notebook__.ipynb",
   "output_path": "__notebook__.ipynb",
   "parameters": {},
   "start_time": "2020-11-25T09:48:59.733406",
   "version": "2.1.0"
  }
 },
 "nbformat": 4,
 "nbformat_minor": 4
}
